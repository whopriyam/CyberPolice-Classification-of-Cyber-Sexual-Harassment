{
  "nbformat": 4,
  "nbformat_minor": 0,
  "metadata": {
    "colab": {
      "name": "Export Model Weights Bert_SH.ipynb",
      "provenance": [],
      "collapsed_sections": []
    },
    "kernelspec": {
      "name": "python3",
      "display_name": "Python 3"
    },
    "accelerator": "GPU"
  },
  "cells": [
    {
      "cell_type": "code",
      "metadata": {
        "id": "8V42-c2hAqO0",
        "colab": {
          "base_uri": "https://localhost:8080/"
        },
        "outputId": "d73461ed-5a0e-425b-80ff-ed9caf669faf"
      },
      "source": [
        "!wget https://raw.githubusercontent.com/whopriyam/Sexual-Harassment-Classification/main/Labelled_Tweets/Cleaned_tweets.csv"
      ],
      "execution_count": null,
      "outputs": [
        {
          "output_type": "stream",
          "text": [
            "--2021-04-17 16:37:40--  https://raw.githubusercontent.com/whopriyam/Sexual-Harassment-Classification/main/Labelled_Tweets/Cleaned_tweets.csv\n",
            "Resolving raw.githubusercontent.com (raw.githubusercontent.com)... 185.199.110.133, 185.199.108.133, 185.199.111.133, ...\n",
            "Connecting to raw.githubusercontent.com (raw.githubusercontent.com)|185.199.110.133|:443... connected.\n",
            "HTTP request sent, awaiting response... 200 OK\n",
            "Length: 534564 (522K) [text/plain]\n",
            "Saving to: ‘Cleaned_tweets.csv.1’\n",
            "\n",
            "\rCleaned_tweets.csv.   0%[                    ]       0  --.-KB/s               \rCleaned_tweets.csv. 100%[===================>] 522.04K  --.-KB/s    in 0.01s   \n",
            "\n",
            "2021-04-17 16:37:40 (51.1 MB/s) - ‘Cleaned_tweets.csv.1’ saved [534564/534564]\n",
            "\n"
          ],
          "name": "stdout"
        }
      ]
    },
    {
      "cell_type": "code",
      "metadata": {
        "id": "PqWPNKKEMS5C"
      },
      "source": [
        "# !mv 4572_Cleaned_tweets.csv\\?token\\=AJXJTMN3KH4BTSETYG7OOS3AL4DJ6 Cleaned_tweets.csv"
      ],
      "execution_count": null,
      "outputs": []
    },
    {
      "cell_type": "code",
      "metadata": {
        "id": "uIWM2GnYxI7o"
      },
      "source": [
        "import numpy as np \n",
        "import pandas as pd\n",
        "import matplotlib.pyplot as plt"
      ],
      "execution_count": null,
      "outputs": []
    },
    {
      "cell_type": "code",
      "metadata": {
        "id": "80u4GLBCxYUU"
      },
      "source": [
        "data = pd.read_csv(\"Cleaned_tweets.csv\")"
      ],
      "execution_count": null,
      "outputs": []
    },
    {
      "cell_type": "code",
      "metadata": {
        "id": "lAtfPwRTMhvd",
        "colab": {
          "base_uri": "https://localhost:8080/"
        },
        "outputId": "96178b5e-79c8-43a8-abdf-ec19371417b9"
      },
      "source": [
        "data.shape"
      ],
      "execution_count": null,
      "outputs": [
        {
          "output_type": "execute_result",
          "data": {
            "text/plain": [
              "(4572, 14)"
            ]
          },
          "metadata": {
            "tags": []
          },
          "execution_count": 5
        }
      ]
    },
    {
      "cell_type": "code",
      "metadata": {
        "id": "H0J6DulBMd9A"
      },
      "source": [
        "data = data.dropna(subset=['Text'])"
      ],
      "execution_count": null,
      "outputs": []
    },
    {
      "cell_type": "code",
      "metadata": {
        "id": "-UjGP0LTxzIa",
        "colab": {
          "base_uri": "https://localhost:8080/",
          "height": 339
        },
        "outputId": "368f0830-9c5e-451f-986d-b2ee76a77427"
      },
      "source": [
        "data.head()"
      ],
      "execution_count": null,
      "outputs": [
        {
          "output_type": "execute_result",
          "data": {
            "text/html": [
              "<div>\n",
              "<style scoped>\n",
              "    .dataframe tbody tr th:only-of-type {\n",
              "        vertical-align: middle;\n",
              "    }\n",
              "\n",
              "    .dataframe tbody tr th {\n",
              "        vertical-align: top;\n",
              "    }\n",
              "\n",
              "    .dataframe thead th {\n",
              "        text-align: right;\n",
              "    }\n",
              "</style>\n",
              "<table border=\"1\" class=\"dataframe\">\n",
              "  <thead>\n",
              "    <tr style=\"text-align: right;\">\n",
              "      <th></th>\n",
              "      <th>Unnamed: 0</th>\n",
              "      <th>Unnamed: 0.1</th>\n",
              "      <th>Key Word</th>\n",
              "      <th>Username</th>\n",
              "      <th>User_ID</th>\n",
              "      <th>Datetime</th>\n",
              "      <th>Favorite_count</th>\n",
              "      <th>Geo</th>\n",
              "      <th>Coordinates</th>\n",
              "      <th>Label</th>\n",
              "      <th>Text</th>\n",
              "      <th>Unnamed: 9</th>\n",
              "      <th>Unnamed: 10</th>\n",
              "      <th>Unnamed: 11</th>\n",
              "    </tr>\n",
              "  </thead>\n",
              "  <tbody>\n",
              "    <tr>\n",
              "      <th>0</th>\n",
              "      <td>1150</td>\n",
              "      <td>1150</td>\n",
              "      <td>brotherfucker</td>\n",
              "      <td>sheri79923585</td>\n",
              "      <td>1.330000e+18</td>\n",
              "      <td>08-11-2020 23:22</td>\n",
              "      <td>2</td>\n",
              "      <td>NaN</td>\n",
              "      <td>NaN</td>\n",
              "      <td>0.0</td>\n",
              "      <td>If Lauren is t suggesting to deport this gross...</td>\n",
              "      <td>NaN</td>\n",
              "      <td>NaN</td>\n",
              "      <td>NaN</td>\n",
              "    </tr>\n",
              "    <tr>\n",
              "      <th>1</th>\n",
              "      <td>1867</td>\n",
              "      <td>1867</td>\n",
              "      <td>Aroused</td>\n",
              "      <td>schwyhart</td>\n",
              "      <td>1.330000e+18</td>\n",
              "      <td>10-11-2020 18:18</td>\n",
              "      <td>4</td>\n",
              "      <td>NaN</td>\n",
              "      <td>NaN</td>\n",
              "      <td>1.0</td>\n",
              "      <td>F in the chat for Corbin, he’s clearly constan...</td>\n",
              "      <td>NaN</td>\n",
              "      <td>NaN</td>\n",
              "      <td>NaN</td>\n",
              "    </tr>\n",
              "    <tr>\n",
              "      <th>2</th>\n",
              "      <td>3883</td>\n",
              "      <td>1575</td>\n",
              "      <td>hoe</td>\n",
              "      <td>Naambo11s</td>\n",
              "      <td>1.326780e+18</td>\n",
              "      <td>2020-11-12 06:51:53</td>\n",
              "      <td>0</td>\n",
              "      <td>NaN</td>\n",
              "      <td>NaN</td>\n",
              "      <td>0.0</td>\n",
              "      <td>Congratulations to Thando and his fiancÃ©, let...</td>\n",
              "      <td>NaN</td>\n",
              "      <td>NaN</td>\n",
              "      <td>NaN</td>\n",
              "    </tr>\n",
              "    <tr>\n",
              "      <th>3</th>\n",
              "      <td>1026</td>\n",
              "      <td>1026</td>\n",
              "      <td>boobies</td>\n",
              "      <td>MoonSLullabies</td>\n",
              "      <td>1.330000e+18</td>\n",
              "      <td>11-11-2020 07:41</td>\n",
              "      <td>0</td>\n",
              "      <td>NaN</td>\n",
              "      <td>NaN</td>\n",
              "      <td>0.0</td>\n",
              "      <td>if you . ♡ ° ♡ think °. ♡ . + that . ✵ ♡ ✷ ♡ ✧...</td>\n",
              "      <td>NaN</td>\n",
              "      <td>NaN</td>\n",
              "      <td>NaN</td>\n",
              "    </tr>\n",
              "    <tr>\n",
              "      <th>4</th>\n",
              "      <td>320</td>\n",
              "      <td>320</td>\n",
              "      <td>ass cowboy</td>\n",
              "      <td>olivialynnfahey</td>\n",
              "      <td>1.330000e+18</td>\n",
              "      <td>10-11-2020 01:33</td>\n",
              "      <td>3</td>\n",
              "      <td>NaN</td>\n",
              "      <td>NaN</td>\n",
              "      <td>0.0</td>\n",
              "      <td>Before anyone says anything, I am gonna get a ...</td>\n",
              "      <td>NaN</td>\n",
              "      <td>NaN</td>\n",
              "      <td>NaN</td>\n",
              "    </tr>\n",
              "  </tbody>\n",
              "</table>\n",
              "</div>"
            ],
            "text/plain": [
              "   Unnamed: 0  Unnamed: 0.1       Key Word  ... Unnamed: 9  Unnamed: 10 Unnamed: 11\n",
              "0        1150          1150  brotherfucker  ...        NaN          NaN         NaN\n",
              "1        1867          1867        Aroused  ...        NaN          NaN         NaN\n",
              "2        3883          1575            hoe  ...        NaN          NaN         NaN\n",
              "3        1026          1026        boobies  ...        NaN          NaN         NaN\n",
              "4         320           320     ass cowboy  ...        NaN          NaN         NaN\n",
              "\n",
              "[5 rows x 14 columns]"
            ]
          },
          "metadata": {
            "tags": []
          },
          "execution_count": 7
        }
      ]
    },
    {
      "cell_type": "code",
      "metadata": {
        "id": "0zDdxNS5x0K6"
      },
      "source": [
        "import tensorflow as tf\n",
        "import sklearn\n",
        "import seaborn as sbs\n",
        "import sklearn.naive_bayes \n",
        "import sklearn.model_selection\n",
        "import sklearn.metrics"
      ],
      "execution_count": null,
      "outputs": []
    },
    {
      "cell_type": "code",
      "metadata": {
        "id": "rbMs8zNfyXE6",
        "colab": {
          "base_uri": "https://localhost:8080/"
        },
        "outputId": "af518bc9-3959-4e0a-e512-cb0e055ffbef"
      },
      "source": [
        "!pip3 install bert-for-tf2"
      ],
      "execution_count": null,
      "outputs": [
        {
          "output_type": "stream",
          "text": [
            "Requirement already satisfied: bert-for-tf2 in /usr/local/lib/python3.7/dist-packages (0.14.9)\n",
            "Requirement already satisfied: py-params>=0.9.6 in /usr/local/lib/python3.7/dist-packages (from bert-for-tf2) (0.10.2)\n",
            "Requirement already satisfied: params-flow>=0.8.0 in /usr/local/lib/python3.7/dist-packages (from bert-for-tf2) (0.8.2)\n",
            "Requirement already satisfied: numpy in /usr/local/lib/python3.7/dist-packages (from params-flow>=0.8.0->bert-for-tf2) (1.19.5)\n",
            "Requirement already satisfied: tqdm in /usr/local/lib/python3.7/dist-packages (from params-flow>=0.8.0->bert-for-tf2) (4.41.1)\n"
          ],
          "name": "stdout"
        }
      ]
    },
    {
      "cell_type": "code",
      "metadata": {
        "id": "48ZdBbrlx-Yf"
      },
      "source": [
        "import tensorflow_hub as hub \n",
        "from bert import bert_tokenization\n",
        "module_url = 'https://tfhub.dev/tensorflow/bert_en_uncased_L-12_H-768_A-12/2'\n",
        "bert_layer = hub.KerasLayer(module_url, trainable=True)"
      ],
      "execution_count": null,
      "outputs": []
    },
    {
      "cell_type": "code",
      "metadata": {
        "id": "8Sgso15TJim7"
      },
      "source": [
        "vocab_file = bert_layer.resolved_object.vocab_file.asset_path.numpy()\n",
        "do_lower_case = bert_layer.resolved_object.do_lower_case.numpy()\n",
        "tokenizer = bert_tokenization.FullTokenizer(vocab_file, do_lower_case)"
      ],
      "execution_count": null,
      "outputs": []
    },
    {
      "cell_type": "code",
      "metadata": {
        "colab": {
          "base_uri": "https://localhost:8080/"
        },
        "id": "kZB67W2gVQ-T",
        "outputId": "cb5db3e3-4201-44eb-a3f8-1d1fe1d0c16a"
      },
      "source": [
        "!ls -al .config"
      ],
      "execution_count": null,
      "outputs": [
        {
          "output_type": "stream",
          "text": [
            "total 36\n",
            "drwxr-xr-x 4 root root 4096 Apr  7 13:35 .\n",
            "drwxr-xr-x 1 root root 4096 Apr 17 17:06 ..\n",
            "-rw-r--r-- 1 root root    7 Apr  7 13:35 active_config\n",
            "-rw-r--r-- 1 root root    0 Apr  7 13:36 config_sentinel\n",
            "drwxr-xr-x 2 root root 4096 Apr  7 13:35 configurations\n",
            "-rw------- 1 root root    5 Jan  1  2040 gce\n",
            "-rw-r--r-- 1 root root    3 Apr  7 13:35 .last_opt_in_prompt.yaml\n",
            "-rw-r--r-- 1 root root   37 Apr  7 13:35 .last_survey_prompt.yaml\n",
            "-rw-r--r-- 1 root root  134 Apr  7 13:35 .last_update_check.json\n",
            "drwxr-xr-x 3 root root 4096 Apr  7 13:35 logs\n"
          ],
          "name": "stdout"
        }
      ]
    },
    {
      "cell_type": "code",
      "metadata": {
        "id": "v42Pq7GdyIxG"
      },
      "source": [
        "def bert_encode(texts, tokenizer, max_len=512):\n",
        "    all_tokens = []\n",
        "    all_masks = []\n",
        "    all_segments = []\n",
        "    \n",
        "    for text in texts:\n",
        "        text = tokenizer.tokenize(text)\n",
        "            \n",
        "        text = text[:max_len-2]\n",
        "        input_sequence = [\"[CLS]\"] + text + [\"[SEP]\"]\n",
        "        pad_len = max_len - len(input_sequence)\n",
        "        \n",
        "        tokens = tokenizer.convert_tokens_to_ids(input_sequence) + [0] * pad_len\n",
        "        pad_masks = [1] * len(input_sequence) + [0] * pad_len\n",
        "        segment_ids = [0] * max_len\n",
        "        \n",
        "        all_tokens.append(tokens)\n",
        "        all_masks.append(pad_masks)\n",
        "        all_segments.append(segment_ids)\n",
        "    \n",
        "    return np.array(all_tokens), np.array(all_masks), np.array(all_segments)\n",
        "\n",
        "def build_model(bert_layer, max_len=512):\n",
        "    input_word_ids = tf.keras.Input(shape=(max_len,), dtype=tf.int32, name=\"input_word_ids\")\n",
        "    input_mask = tf.keras.Input(shape=(max_len,), dtype=tf.int32, name=\"input_mask\")\n",
        "    segment_ids = tf.keras.Input(shape=(max_len,), dtype=tf.int32, name=\"segment_ids\")\n",
        "\n",
        "    pooled_output, sequence_output = bert_layer([input_word_ids, input_mask, segment_ids])\n",
        "    clf_output = sequence_output[:, 0, :]\n",
        "    net = tf.keras.layers.Dense(64, activation='relu')(clf_output)\n",
        "    net = tf.keras.layers.Dropout(0.2)(net)\n",
        "    net = tf.keras.layers.Dense(32, activation='relu')(net)\n",
        "    net = tf.keras.layers.Dropout(0.2)(net)\n",
        "    out = tf.keras.layers.Dense(1, activation='sigmoid')(net)\n",
        "    \n",
        "    model = tf.keras.models.Model(inputs=[input_word_ids, input_mask, segment_ids], outputs=out)\n",
        "    model.compile(tf.keras.optimizers.Adam(lr=1e-5), loss='binary_crossentropy', metrics=['accuracy'])\n",
        "    \n",
        "    return model"
      ],
      "execution_count": null,
      "outputs": []
    },
    {
      "cell_type": "code",
      "metadata": {
        "id": "O9sB1uIz043w"
      },
      "source": [
        "max_len = 100\n",
        "X_train, X_test, y_train, y_test = sklearn.model_selection.train_test_split(data.Text, data['Label'], \n",
        "                                                                          test_size=0.2, random_state=0)\n",
        "X_train, X_val, y_train, y_val = sklearn.model_selection.train_test_split(X_train, y_train, \n",
        "                                                                          test_size=0.2, random_state=0)\n",
        "X_train = bert_encode(X_train, tokenizer, max_len=max_len)\n",
        "X_test = bert_encode(X_test, tokenizer, max_len=max_len)\n",
        "X_val = bert_encode(X_val, tokenizer, max_len=max_len)"
      ],
      "execution_count": null,
      "outputs": []
    },
    {
      "cell_type": "code",
      "metadata": {
        "id": "MVIjlJxEJ1fH",
        "colab": {
          "base_uri": "https://localhost:8080/"
        },
        "outputId": "a2f9082a-69bd-4426-8fda-941bd8a5a426"
      },
      "source": [
        "model = build_model(bert_layer, max_len=max_len)\n",
        "model.summary()"
      ],
      "execution_count": null,
      "outputs": [
        {
          "output_type": "stream",
          "text": [
            "Model: \"model\"\n",
            "__________________________________________________________________________________________________\n",
            "Layer (type)                    Output Shape         Param #     Connected to                     \n",
            "==================================================================================================\n",
            "input_word_ids (InputLayer)     [(None, 100)]        0                                            \n",
            "__________________________________________________________________________________________________\n",
            "input_mask (InputLayer)         [(None, 100)]        0                                            \n",
            "__________________________________________________________________________________________________\n",
            "segment_ids (InputLayer)        [(None, 100)]        0                                            \n",
            "__________________________________________________________________________________________________\n",
            "keras_layer (KerasLayer)        [(None, 768), (None, 109482241   input_word_ids[0][0]             \n",
            "                                                                 input_mask[0][0]                 \n",
            "                                                                 segment_ids[0][0]                \n",
            "__________________________________________________________________________________________________\n",
            "tf.__operators__.getitem (Slici (None, 768)          0           keras_layer[0][1]                \n",
            "__________________________________________________________________________________________________\n",
            "dense (Dense)                   (None, 64)           49216       tf.__operators__.getitem[0][0]   \n",
            "__________________________________________________________________________________________________\n",
            "dropout (Dropout)               (None, 64)           0           dense[0][0]                      \n",
            "__________________________________________________________________________________________________\n",
            "dense_1 (Dense)                 (None, 32)           2080        dropout[0][0]                    \n",
            "__________________________________________________________________________________________________\n",
            "dropout_1 (Dropout)             (None, 32)           0           dense_1[0][0]                    \n",
            "__________________________________________________________________________________________________\n",
            "dense_2 (Dense)                 (None, 1)            33          dropout_1[0][0]                  \n",
            "==================================================================================================\n",
            "Total params: 109,533,570\n",
            "Trainable params: 109,533,569\n",
            "Non-trainable params: 1\n",
            "__________________________________________________________________________________________________\n"
          ],
          "name": "stdout"
        }
      ]
    },
    {
      "cell_type": "code",
      "metadata": {
        "id": "YnVa3briJ7de",
        "colab": {
          "base_uri": "https://localhost:8080/"
        },
        "outputId": "317c207a-1eb1-4f7a-bc1f-c3f52a1e40b3"
      },
      "source": [
        "%%time\n",
        "checkpoint = tf.keras.callbacks.ModelCheckpoint('model.h5', monitor='val_accuracy', save_best_only=True, verbose=1)\n",
        "earlystopping = tf.keras.callbacks.EarlyStopping(monitor='val_accuracy', patience=5, verbose=1)\n",
        "\n",
        "train_history = model.fit(\n",
        "    X_train, y_train, \n",
        "   \n",
        "    epochs=10,\n",
        "    callbacks=[checkpoint, earlystopping],\n",
        "    batch_size=1,\n",
        "    verbose=1,\n",
        "    validation_data=(X_val, y_val)\n",
        ")"
      ],
      "execution_count": null,
      "outputs": [
        {
          "output_type": "stream",
          "text": [
            "Epoch 1/10\n",
            "2924/2924 [==============================] - 187s 60ms/step - loss: 0.6521 - accuracy: 0.6043 - val_loss: 0.4715 - val_accuracy: 0.7855\n",
            "\n",
            "Epoch 00001: val_accuracy improved from -inf to 0.78552, saving model to model.h5\n",
            "Epoch 2/10\n",
            "2924/2924 [==============================] - 174s 59ms/step - loss: 0.4217 - accuracy: 0.8127 - val_loss: 0.5102 - val_accuracy: 0.7814\n",
            "\n",
            "Epoch 00002: val_accuracy did not improve from 0.78552\n",
            "Epoch 3/10\n",
            "2924/2924 [==============================] - 174s 59ms/step - loss: 0.2226 - accuracy: 0.9155 - val_loss: 0.5772 - val_accuracy: 0.7541\n",
            "\n",
            "Epoch 00003: val_accuracy did not improve from 0.78552\n",
            "Epoch 4/10\n",
            "2924/2924 [==============================] - 173s 59ms/step - loss: 0.1264 - accuracy: 0.9614 - val_loss: 0.8872 - val_accuracy: 0.7773\n",
            "\n",
            "Epoch 00004: val_accuracy did not improve from 0.78552\n",
            "Epoch 5/10\n",
            "2924/2924 [==============================] - 173s 59ms/step - loss: 0.0617 - accuracy: 0.9816 - val_loss: 1.3453 - val_accuracy: 0.7828\n",
            "\n",
            "Epoch 00005: val_accuracy did not improve from 0.78552\n",
            "Epoch 6/10\n",
            "2924/2924 [==============================] - 173s 59ms/step - loss: 0.0609 - accuracy: 0.9833 - val_loss: 1.1612 - val_accuracy: 0.7650\n",
            "\n",
            "Epoch 00006: val_accuracy did not improve from 0.78552\n",
            "Epoch 00006: early stopping\n",
            "CPU times: user 12min 16s, sys: 4min 37s, total: 16min 54s\n",
            "Wall time: 17min 39s\n"
          ],
          "name": "stdout"
        }
      ]
    },
    {
      "cell_type": "code",
      "metadata": {
        "id": "qZPOb_kFUfYX",
        "colab": {
          "base_uri": "https://localhost:8080/"
        },
        "outputId": "ebc4b5ec-db3b-4f51-9e8c-8e782c95e229"
      },
      "source": [
        "model.evaluate(X_test, y_test)"
      ],
      "execution_count": null,
      "outputs": [
        {
          "output_type": "stream",
          "text": [
            "29/29 [==============================] - 7s 213ms/step - loss: 1.1345 - accuracy: 0.7705\n"
          ],
          "name": "stdout"
        },
        {
          "output_type": "execute_result",
          "data": {
            "text/plain": [
              "[1.134543776512146, 0.7704917788505554]"
            ]
          },
          "metadata": {
            "tags": []
          },
          "execution_count": 16
        }
      ]
    },
    {
      "cell_type": "code",
      "metadata": {
        "colab": {
          "base_uri": "https://localhost:8080/"
        },
        "id": "LQozo9yV_kOI",
        "outputId": "289a44e6-125f-4f19-9685-4abd7231eddf"
      },
      "source": [
        "train_history.history"
      ],
      "execution_count": null,
      "outputs": [
        {
          "output_type": "execute_result",
          "data": {
            "text/plain": [
              "{'accuracy': [0.6761285662651062,\n",
              "  0.8286593556404114,\n",
              "  0.9124487042427063,\n",
              "  0.9613543152809143,\n",
              "  0.9808481335639954,\n",
              "  0.9859781265258789],\n",
              " 'loss': [0.5988599061965942,\n",
              "  0.4004863202571869,\n",
              "  0.224542498588562,\n",
              "  0.11691407114267349,\n",
              "  0.061692014336586,\n",
              "  0.05426584929227829],\n",
              " 'val_accuracy': [0.7855191230773926,\n",
              "  0.7814207673072815,\n",
              "  0.7540983557701111,\n",
              "  0.7773224115371704,\n",
              "  0.7827869057655334,\n",
              "  0.7650273442268372],\n",
              " 'val_loss': [0.4714900255203247,\n",
              "  0.5102348327636719,\n",
              "  0.5772017240524292,\n",
              "  0.8872174620628357,\n",
              "  1.3453171253204346,\n",
              "  1.1612154245376587]}"
            ]
          },
          "metadata": {
            "tags": []
          },
          "execution_count": 17
        }
      ]
    },
    {
      "cell_type": "code",
      "metadata": {
        "colab": {
          "base_uri": "https://localhost:8080/"
        },
        "id": "eAXX56B2_v1P",
        "outputId": "f439335c-e6a7-4397-ad99-57fea5cb3f7f"
      },
      "source": [
        "print(X_val[0])"
      ],
      "execution_count": null,
      "outputs": [
        {
          "output_type": "stream",
          "text": [
            "[[  101  2045  3849 ...     0     0     0]\n",
            " [  101  1045 10587 ...     0     0     0]\n",
            " [  101  1045  2572 ...     0     0     0]\n",
            " ...\n",
            " [  101  1996  2158 ...     0     0     0]\n",
            " [  101 26489  9488 ...     0     0     0]\n",
            " [  101  1045  1005 ...     0     0     0]]\n"
          ],
          "name": "stdout"
        }
      ]
    },
    {
      "cell_type": "code",
      "metadata": {
        "id": "E-DyAyIAkEaJ",
        "colab": {
          "base_uri": "https://localhost:8080/"
        },
        "outputId": "339e1c84-bcc8-44ae-cf4c-b36d9b3d59d1"
      },
      "source": [
        "test_performance=model.evaluate(X_test,y_test)\n",
        "print((test_performance))\n",
        "print(\"The loss of the model on the test set : {}\".format(test_performance[0]))\n",
        "print(\"The accuracy of the model on the test set : {}%\".format(test_performance[1]*100))\n",
        "\n"
      ],
      "execution_count": null,
      "outputs": [
        {
          "output_type": "stream",
          "text": [
            "29/29 [==============================] - 6s 212ms/step - loss: 1.1345 - accuracy: 0.7705\n",
            "[1.134543776512146, 0.7704917788505554]\n",
            "The loss of the model on the test set : 1.134543776512146\n",
            "The accuracy of the model on the test set : 77.04917788505554%\n"
          ],
          "name": "stdout"
        }
      ]
    },
    {
      "cell_type": "code",
      "metadata": {
        "colab": {
          "base_uri": "https://localhost:8080/",
          "height": 295
        },
        "id": "pNPj3djgAQS_",
        "outputId": "78aadfff-13ff-449d-8a66-e8e0114a12ce"
      },
      "source": [
        "plt.plot(train_history.history['accuracy'])\n",
        "plt.title('model accuracy')\n",
        "plt.ylabel('accuracy')\n",
        "plt.xlabel('epoch')\n",
        "plt.legend(['train', 'test'], loc='upper left')\n",
        "plt.show()"
      ],
      "execution_count": null,
      "outputs": [
        {
          "output_type": "display_data",
          "data": {
            "image/png": "[encoded data removed]",
            "text/plain": [
              "<Figure size 432x288 with 1 Axes>"
            ]
          },
          "metadata": {
            "tags": [],
            "needs_background": "light"
          }
        }
      ]
    },
    {
      "cell_type": "code",
      "metadata": {
        "colab": {
          "base_uri": "https://localhost:8080/",
          "height": 295
        },
        "id": "i7WQzgQFAlXQ",
        "outputId": "61fd8776-a665-4b3f-8f2c-614c3be8276c"
      },
      "source": [
        "plt.plot(train_history.history['loss'])\n",
        "plt.title('model loss')\n",
        "plt.ylabel('loss')\n",
        "plt.xlabel('epoch')\n",
        "plt.legend(['train', 'test'], loc='upper left')\n",
        "plt.show()"
      ],
      "execution_count": null,
      "outputs": [
        {
          "output_type": "display_data",
          "data": {
            "image/png": "[encoded data removed]",
            "text/plain": [
              "<Figure size 432x288 with 1 Axes>"
            ]
          },
          "metadata": {
            "tags": [],
            "needs_background": "light"
          }
        }
      ]
    },
    {
      "cell_type": "code",
      "metadata": {
        "id": "mqm2mtJJkg-g",
        "colab": {
          "base_uri": "https://localhost:8080/"
        },
        "outputId": "f9e8b665-843f-4624-8a0c-a6ca2dfaf66e"
      },
      "source": [
        "new_input = [\"hey baby come lick my gooch\"]\n",
        "\n",
        "new_val = bert_encode(new_input, tokenizer, max_len=max_len)\n",
        "\n",
        "print(model.predict(new_val))"
      ],
      "execution_count": null,
      "outputs": [
        {
          "output_type": "stream",
          "text": [
            "[[0.99998665]]\n"
          ],
          "name": "stdout"
        }
      ]
    },
    {
      "cell_type": "code",
      "metadata": {
        "id": "PWwbF9Oz-dYW",
        "colab": {
          "base_uri": "https://localhost:8080/"
        },
        "outputId": "8ec41ad9-4288-4a80-a6d9-acd5ee3b410e"
      },
      "source": [
        "model"
      ],
      "execution_count": null,
      "outputs": [
        {
          "output_type": "execute_result",
          "data": {
            "text/plain": [
              "<tensorflow.python.keras.engine.functional.Functional at 0x7f2c1093a810>"
            ]
          },
          "metadata": {
            "tags": []
          },
          "execution_count": 23
        }
      ]
    },
    {
      "cell_type": "code",
      "metadata": {
        "colab": {
          "base_uri": "https://localhost:8080/"
        },
        "id": "t0-8cv-VyqVv",
        "outputId": "0b6dd3a2-4529-4f4e-e2c7-98df1e12daa6"
      },
      "source": [
        "model.save('untitled_model')"
      ],
      "execution_count": null,
      "outputs": [
        {
          "output_type": "stream",
          "text": [
            "WARNING:absl:Found untraced functions such as restored_function_body, restored_function_body, restored_function_body, restored_function_body, restored_function_body while saving (showing 5 of 945). These functions will not be directly callable after loading.\n",
            "WARNING:absl:Found untraced functions such as restored_function_body, restored_function_body, restored_function_body, restored_function_body, restored_function_body while saving (showing 5 of 945). These functions will not be directly callable after loading.\n"
          ],
          "name": "stderr"
        },
        {
          "output_type": "stream",
          "text": [
            "INFO:tensorflow:Assets written to: untitled_model/assets\n"
          ],
          "name": "stdout"
        },
        {
          "output_type": "stream",
          "text": [
            "INFO:tensorflow:Assets written to: untitled_model/assets\n"
          ],
          "name": "stderr"
        }
      ]
    },
    {
      "cell_type": "code",
      "metadata": {
        "id": "2HRAEGiSy_c_"
      },
      "source": [
        "saved_model = tf.keras.models.load_model('untitled_model/')"
      ],
      "execution_count": null,
      "outputs": []
    },
    {
      "cell_type": "code",
      "metadata": {
        "colab": {
          "base_uri": "https://localhost:8080/"
        },
        "id": "8_y3DURwzS-8",
        "outputId": "db523673-53c4-4843-8802-3c2651a9f43b"
      },
      "source": [
        "!ls -al"
      ],
      "execution_count": null,
      "outputs": [
        {
          "output_type": "stream",
          "text": [
            "total 1285540\n",
            "drwxr-xr-x 1 root root       4096 Apr 17 17:06 .\n",
            "drwxr-xr-x 1 root root       4096 Apr 17 16:34 ..\n",
            "-rw-r--r-- 1 root root     708230 Apr 17 16:35 Cleaned_tweets.csv\n",
            "-rw-r--r-- 1 root root     534564 Apr 17 16:37 Cleaned_tweets.csv.1\n",
            "drwxr-xr-x 4 root root       4096 Apr  7 13:35 .config\n",
            "-rw-r--r-- 1 root root 1315122792 Apr 17 16:41 model.h5\n",
            "drwxr-xr-x 1 root root       4096 Apr  7 13:36 sample_data\n",
            "drwxr-xr-x 4 root root       4096 Apr 17 17:06 untitled_model\n"
          ],
          "name": "stdout"
        }
      ]
    },
    {
      "cell_type": "code",
      "metadata": {
        "colab": {
          "base_uri": "https://localhost:8080/"
        },
        "id": "oTkyGeSmzdK3",
        "outputId": "92ea0554-392b-4b82-ed36-2522f2aa2237"
      },
      "source": [
        "!du -chd 1 | sort -h"
      ],
      "execution_count": null,
      "outputs": [
        {
          "output_type": "stream",
          "text": [
            "96K\t./.config\n",
            "55M\t./sample_data\n",
            "1.3G\t./untitled_model\n",
            "2.6G\t.\n",
            "2.6G\ttotal\n"
          ],
          "name": "stdout"
        }
      ]
    },
    {
      "cell_type": "code",
      "metadata": {
        "colab": {
          "base_uri": "https://localhost:8080/"
        },
        "id": "NmPUgvOqzpwH",
        "outputId": "cc452615-d00e-4f66-fb4f-c8a490b03e81"
      },
      "source": [
        "1315122792/1024/1024/1024"
      ],
      "execution_count": null,
      "outputs": [
        {
          "output_type": "execute_result",
          "data": {
            "text/plain": [
              "1.2248035445809364"
            ]
          },
          "metadata": {
            "tags": []
          },
          "execution_count": 33
        }
      ]
    },
    {
      "cell_type": "code",
      "metadata": {
        "colab": {
          "base_uri": "https://localhost:8080/"
        },
        "id": "WF_RXxMOz7MS",
        "outputId": "f7527a81-9c20-4c2d-abf8-a3b27d3d074e"
      },
      "source": [
        "print(saved_model.predict(new_val)[0][0])"
      ],
      "execution_count": null,
      "outputs": [
        {
          "output_type": "stream",
          "text": [
            "0.99998665\n"
          ],
          "name": "stdout"
        }
      ]
    },
    {
      "cell_type": "code",
      "metadata": {
        "colab": {
          "base_uri": "https://localhost:8080/"
        },
        "id": "B38wuxH17ewC",
        "outputId": "6b5818ff-46cf-4c8c-bce4-263c6f74353e"
      },
      "source": [
        "!zip untitled_model untitled_model.zip"
      ],
      "execution_count": null,
      "outputs": [
        {
          "output_type": "stream",
          "text": [
            "\tzip warning: name not matched: untitled_model.zip\n",
            "\n",
            "zip error: Nothing to do! (untitled_model.zip)\n"
          ],
          "name": "stdout"
        }
      ]
    },
    {
      "cell_type": "code",
      "metadata": {
        "colab": {
          "base_uri": "https://localhost:8080/"
        },
        "id": "_BAqzevC7lJf",
        "outputId": "75f1ad8f-7307-40fa-a70e-e2c0e31a500f"
      },
      "source": [
        "!pip list | grep 'tensorflow'"
      ],
      "execution_count": null,
      "outputs": [
        {
          "output_type": "stream",
          "text": [
            "tensorflow                    2.4.1         \n",
            "tensorflow-datasets           4.0.1         \n",
            "tensorflow-estimator          2.4.0         \n",
            "tensorflow-gcs-config         2.4.0         \n",
            "tensorflow-hub                0.12.0        \n",
            "tensorflow-metadata           0.29.0        \n",
            "tensorflow-probability        0.12.1        \n"
          ],
          "name": "stdout"
        }
      ]
    },
    {
      "cell_type": "code",
      "metadata": {
        "colab": {
          "base_uri": "https://localhost:8080/"
        },
        "id": "AqkFfxF-NAtS",
        "outputId": "8462ed6b-c0b3-4d44-8f32-65aef90557da"
      },
      "source": [
        "!zip -r untitled_model.zip untitled_model/"
      ],
      "execution_count": null,
      "outputs": [
        {
          "output_type": "stream",
          "text": [
            "updating: untitled_model/ (stored 0%)\n",
            "  adding: untitled_model/assets/ (stored 0%)\n",
            "  adding: untitled_model/assets/vocab.txt (deflated 53%)\n",
            "  adding: untitled_model/variables/ (stored 0%)\n",
            "  adding: untitled_model/variables/variables.data-00000-of-00001 (deflated 19%)\n",
            "  adding: untitled_model/variables/variables.index (deflated 82%)\n",
            "  adding: untitled_model/saved_model.pb (deflated 92%)\n"
          ],
          "name": "stdout"
        }
      ]
    },
    {
      "cell_type": "code",
      "metadata": {
        "id": "jFuJ3-HkjdaB"
      },
      "source": [
        ""
      ],
      "execution_count": null,
      "outputs": []
    }
  ]
}